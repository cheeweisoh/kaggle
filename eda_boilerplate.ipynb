{
 "cells": [
  {
   "cell_type": "code",
   "execution_count": null,
   "metadata": {},
   "outputs": [],
   "source": [
    "from tqdm.auto import tqdm\n",
    "import warnings\n",
    "warnings.filterwarnings('ignore')\n",
    "\n",
    "import numpy as np\n",
    "import pandas as pd\n",
    "import matplotlib.pyplot as plt\n",
    "import seaborn as sns"
   ]
  },
  {
   "cell_type": "code",
   "execution_count": null,
   "metadata": {},
   "outputs": [],
   "source": [
    "train_df = pd.read_csv('train.csv', index_col='id')\n",
    "test_df = pd.read_csv('test.csv', index_col='id')\n",
    "\n",
    "cat_features = []\n",
    "num_features = []"
   ]
  },
  {
   "cell_type": "markdown",
   "metadata": {},
   "source": [
    "# Data Description"
   ]
  },
  {
   "cell_type": "code",
   "execution_count": null,
   "metadata": {},
   "outputs": [],
   "source": [
    "train_df.head()"
   ]
  },
  {
   "cell_type": "markdown",
   "metadata": {},
   "source": [
    "## Shape and Columns"
   ]
  },
  {
   "cell_type": "code",
   "execution_count": null,
   "metadata": {},
   "outputs": [],
   "source": [
    "print('Train Descriptors')\n",
    "print(f'Shape: {train_df.shape}')\n",
    "print(f'Columns : {train_df.columns}')\n",
    "print('')\n",
    "print('Test Descriptors')\n",
    "print(f'Shape: {test_df.shape}')\n",
    "print(test_df.columns)"
   ]
  },
  {
   "cell_type": "markdown",
   "metadata": {},
   "source": [
    "## Missing Values"
   ]
  },
  {
   "cell_type": "code",
   "execution_count": null,
   "metadata": {},
   "outputs": [],
   "source": [
    "null_values = {'column': [], 'train_null_values': [], 'test_null_values': []}\n",
    "\n",
    "for col in test_df.columns:\n",
    "    train_col_null = train_df[col].isna().sum()\n",
    "    test_col_null = test_df[col].isna().sum()\n",
    "    \n",
    "    null_values['column'].append(col)\n",
    "    null_values['train_null_values'].append(train_col_null)\n",
    "    null_values['test_null_values'].append(test_col_null)\n",
    "    \n",
    "null_values = pd.DataFrame(null_values)\n",
    "null_values['train_total'] = train_df.shape[0]\n",
    "null_values['test_total'] = test_df.shape[0]\n",
    "null_values['train_null_perc'] = null_values['train_null_values'] / null_values['train_total']\n",
    "null_values['test_null_perc'] = null_values['test_null_values'] / null_values['test_total']\n",
    "null_values.sort_values(by='train_null_perc', inplace=True, ascending=False)\n",
    "\n",
    "null_values.style.format({'train_null_perc': '{:.0%}',\n",
    "                          'test_null_perc': '{:.0%}'})"
   ]
  },
  {
   "cell_type": "code",
   "execution_count": null,
   "metadata": {},
   "outputs": [],
   "source": [
    "null_values_per_row = train_df.isna().sum(axis=1)\n",
    "pd.DataFrame(null_values_per_row.value_counts().sort_index())"
   ]
  },
  {
   "cell_type": "code",
   "execution_count": null,
   "metadata": {},
   "outputs": [],
   "source": [
    "missing_values = {'column': [], 'only_in_train': [], 'only_in_test': []}\n",
    "\n",
    "for col in ['surgery', 'age', 'temp_of_extremities', 'peripheral_pulse', 'mucous_membrane', 'capillary_refill_time', 'pain', 'peristalsis', 'abdominal_distention', 'nasogastric_tube', 'nasogastric_reflux', 'rectal_exam_feces', 'abdomen', 'abdomo_appearance', 'surgical_lesion', 'cp_data',]:\n",
    "    train_col_unique = train_df[col].unique()\n",
    "    test_col_unique = test_df[col].unique()\n",
    "    \n",
    "    missing_values['column'].append(col)\n",
    "    missing_values['only_in_train'].append([f for f in train_col_unique if f not in test_col_unique])\n",
    "    missing_values['only_in_test'].append([f for f in test_col_unique if f not in train_col_unique])\n",
    "\n",
    "missing_values = pd.DataFrame(missing_values)\n",
    "missing_values"
   ]
  },
  {
   "cell_type": "markdown",
   "metadata": {},
   "source": [
    "# Exploratory Data Analysis"
   ]
  },
  {
   "cell_type": "markdown",
   "metadata": {},
   "source": [
    "## Variable Distribution"
   ]
  },
  {
   "cell_type": "code",
   "execution_count": null,
   "metadata": {},
   "outputs": [],
   "source": [
    "sns.countplot(data=train_df, x='outcome')\n",
    "plt.show()"
   ]
  },
  {
   "cell_type": "code",
   "execution_count": null,
   "metadata": {},
   "outputs": [],
   "source": [
    "fig, axs = plt.subplots(nrows=len(cat_features)//3 + 1, ncols=3, figsize=(30,30))\n",
    "axs = axs.flatten()\n",
    "\n",
    "for i, feat in enumerate(cat_features):\n",
    "    sns.countplot(data=train_df, x=feat, ax=axs[i])\n",
    "plt.show()"
   ]
  },
  {
   "cell_type": "code",
   "execution_count": null,
   "metadata": {},
   "outputs": [],
   "source": [
    "fig, axs = plt.subplots(nrows=len(num_features)//3 + 1, ncols=3, figsize=(30,10))\n",
    "axs = axs.flatten()\n",
    "\n",
    "for i, feat in enumerate(num_features):\n",
    "    sns.histplot(data=train_df, x=feat, ax=axs[i])\n",
    "plt.show()"
   ]
  }
 ],
 "metadata": {
  "language_info": {
   "name": "python"
  },
  "orig_nbformat": 4
 },
 "nbformat": 4,
 "nbformat_minor": 2
}
